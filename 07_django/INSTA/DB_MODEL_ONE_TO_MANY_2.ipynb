{
 "cells": [
  {
   "cell_type": "code",
   "execution_count": 1,
   "metadata": {},
   "outputs": [
    {
     "data": {
      "text/plain": [
       "<Writer: Writer object (2)>"
      ]
     },
     "execution_count": 1,
     "metadata": {},
     "output_type": "execute_result"
    }
   ],
   "source": [
    "Writer.objects.create(name='이선 브라운')"
   ]
  },
  {
   "cell_type": "code",
   "execution_count": 2,
   "metadata": {},
   "outputs": [
    {
     "data": {
      "text/plain": [
       "<Book: Book object (3)>"
      ]
     },
     "execution_count": 2,
     "metadata": {},
     "output_type": "execute_result"
    }
   ],
   "source": [
    "Book.objects.create(\n",
    "    title='러닝 자바스크립트',\n",
    "    description='es6 자바스크립트',\n",
    "    author=Writer.objects.get(name='이선 브라운') \n",
    ")"
   ]
  },
  {
   "cell_type": "code",
   "execution_count": 3,
   "metadata": {},
   "outputs": [
    {
     "data": {
      "text/plain": [
       "<Book: Book object (4)>"
      ]
     },
     "execution_count": 3,
     "metadata": {},
     "output_type": "execute_result"
    }
   ],
   "source": [
    "Book.objects.create(\n",
    "    title='러닝 파이썬',\n",
    "    description='파이썬37 python37',\n",
    "    author=Writer.objects.get(name='이선 브라운') \n",
    ")"
   ]
  },
  {
   "cell_type": "code",
   "execution_count": 4,
   "metadata": {},
   "outputs": [
    {
     "data": {
      "text/plain": [
       "<Chapter: Chapter object (4)>"
      ]
     },
     "execution_count": 4,
     "metadata": {},
     "output_type": "execute_result"
    }
   ],
   "source": [
    "Chapter.objects.create(\n",
    "    book=Book.objects.get(id=3),\n",
    "    title='first app',\n",
    "    description='시작은 브라우저에서'\n",
    ")\n",
    "\n",
    "Chapter.objects.create(\n",
    "    book=Book.objects.get(id=3),\n",
    "    title='개발 도구',\n",
    "    description='트랜스컴파일러'\n",
    ")\n",
    "\n",
    "Chapter.objects.create(\n",
    "    book=Book.objects.get(id=4),\n",
    "    title='파이썬 기초',\n",
    "    description='변수, 문자열'\n",
    ")\n",
    "\n",
    "Chapter.objects.create(\n",
    "    book=Book.objects.get(id=4),\n",
    "    title='파이썬 자료구조',\n",
    "    description='리스트, 딕셔너리, 튜플'\n",
    ")"
   ]
  },
  {
   "cell_type": "code",
   "execution_count": 10,
   "metadata": {},
   "outputs": [
    {
     "name": "stdout",
     "output_type": "stream",
     "text": [
      "러닝 자바스크립트\n",
      "러닝 파이썬\n"
     ]
    }
   ],
   "source": [
    "python_books = Chapter.objects.filter(description__contains='딕셔너리')[0].book.author.book_set.all()\n",
    "# python_books = Book.objects.filter(author=python_author)\n",
    "for i in python_books:\n",
    "    print(i.title)"
   ]
  },
  {
   "cell_type": "code",
   "execution_count": 31,
   "metadata": {},
   "outputs": [
    {
     "name": "stdout",
     "output_type": "stream",
     "text": [
      "러닝 자바스크립트\n",
      "러닝 파이썬\n"
     ]
    }
   ],
   "source": [
    "for i in Book.objects.filter(created__year=2019)[2:2+3]:\n",
    "    print(i.title)"
   ]
  },
  {
   "cell_type": "code",
   "execution_count": 36,
   "metadata": {},
   "outputs": [
    {
     "name": "stdout",
     "output_type": "stream",
     "text": [
      "러닝 자바스크립트\n",
      "러닝 파이썬\n"
     ]
    }
   ],
   "source": [
    "for i in Book.objects.filter(created__year__gt=2018)[2:2+3]:\n",
    "    print(i.title)"
   ]
  },
  {
   "cell_type": "code",
   "execution_count": null,
   "metadata": {},
   "outputs": [],
   "source": []
  }
 ],
 "metadata": {
  "kernelspec": {
   "display_name": "Django Shell-Plus",
   "language": "python",
   "name": "django_extensions"
  },
  "language_info": {
   "codemirror_mode": {
    "name": "ipython",
    "version": 3
   },
   "file_extension": ".py",
   "mimetype": "text/x-python",
   "name": "python",
   "nbconvert_exporter": "python",
   "pygments_lexer": "ipython3",
   "version": "3.7.3"
  }
 },
 "nbformat": 4,
 "nbformat_minor": 2
}
