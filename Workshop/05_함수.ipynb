{
 "cells": [
  {
   "cell_type": "markdown",
   "metadata": {},
   "source": [
    "# 5_함수"
   ]
  },
  {
   "cell_type": "markdown",
   "metadata": {},
   "source": [
    "## Workshop"
   ]
  },
  {
   "cell_type": "code",
   "execution_count": 7,
   "metadata": {},
   "outputs": [
    {
     "name": "stdout",
     "output_type": "stream",
     "text": [
      "True\n",
      "True\n",
      "True\n",
      "True\n",
      "False\n",
      "False\n",
      "False\n",
      "False\n"
     ]
    }
   ],
   "source": [
    "def Palindrome(string):\n",
    "    string = string.lower().replace(' ', '')\n",
    "    while len(string) > 1:\n",
    "        if string[0] != string[-1]:\n",
    "            return False\n",
    "        string = string[1:-1]\n",
    "    return True\n",
    "\n",
    "\n",
    "print(Palindrome('a'))\n",
    "print(Palindrome('nan'))\n",
    "print(Palindrome('토마토'))\n",
    "print(Palindrome('A santa at NASA'))\n",
    "\n",
    "print(Palindrome('ab'))\n",
    "print(Palindrome('nana'))\n",
    "print(Palindrome('토마토토'))\n",
    "print(Palindrome('santas at NASA'))"
   ]
  }
 ],
 "metadata": {
  "kernelspec": {
   "display_name": "Python 3",
   "language": "python",
   "name": "python3"
  },
  "language_info": {
   "codemirror_mode": {
    "name": "ipython",
    "version": 3
   },
   "file_extension": ".py",
   "mimetype": "text/x-python",
   "name": "python",
   "nbconvert_exporter": "python",
   "pygments_lexer": "ipython3",
   "version": "3.6.7"
  }
 },
 "nbformat": 4,
 "nbformat_minor": 2
}
