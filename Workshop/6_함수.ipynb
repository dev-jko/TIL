{
 "cells": [
  {
   "cell_type": "markdown",
   "metadata": {},
   "source": [
    "# 6_함수"
   ]
  },
  {
   "cell_type": "markdown",
   "metadata": {},
   "source": [
    "## Workshop"
   ]
  },
  {
   "cell_type": "code",
   "execution_count": 2,
   "metadata": {},
   "outputs": [
    {
     "name": "stdout",
     "output_type": "stream",
     "text": [
      "제곱근을 구할 수 : 1\n",
      "0.9999999995343387\n"
     ]
    }
   ],
   "source": [
    "import math\n",
    "\n",
    "def find_sqrt(number):\n",
    "    for i in range(x):\n",
    "        if i ** 2 <= number <= (i + 1) ** 2:\n",
    "            min_num, max_num = i, i + 1\n",
    "    mid = (min_num + max_num) / 2\n",
    "    while not math.isclose(number, mid ** 2):\n",
    "        if mid ** 2 > number:\n",
    "            max_num = mid\n",
    "        else:\n",
    "            min_num = mid\n",
    "        mid = (min_num + max_num) / 2\n",
    "    return mid\n",
    "\n",
    "\n",
    "# 함수 12줄\n",
    "\n",
    "x = int(input('제곱근을 구할 수 : '))\n",
    "print(find_sqrt(x))"
   ]
  }
 ],
 "metadata": {
  "kernelspec": {
   "display_name": "Python 3",
   "language": "python",
   "name": "python3"
  },
  "language_info": {
   "codemirror_mode": {
    "name": "ipython",
    "version": 3
   },
   "file_extension": ".py",
   "mimetype": "text/x-python",
   "name": "python",
   "nbconvert_exporter": "python",
   "pygments_lexer": "ipython3",
   "version": "3.6.7"
  }
 },
 "nbformat": 4,
 "nbformat_minor": 2
}
