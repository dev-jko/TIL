{
 "cells": [
  {
   "cell_type": "markdown",
   "metadata": {},
   "source": [
    "# CLI"
   ]
  },
  {
   "cell_type": "markdown",
   "metadata": {},
   "source": [
    "## Homework"
   ]
  },
  {
   "cell_type": "markdown",
   "metadata": {},
   "source": [
    "1.  1. False\n",
    "    2. False\n",
    "    3. True\n",
    "    4. True\n",
    "\n",
    "\n",
    "2.  1. 디렉토리 안에 있는 디렉토리와 파일의 리스트를 보여준다.\n",
    "    2. 디렉토리를 이동한다.\n",
    "    3. 디렉토리를 만든다.\n",
    "    4. 파일을 생성한다.\n",
    "    \n",
    "    \n",
    "3.    자동완성 기능\n",
    "    "
   ]
  }
 ],
 "metadata": {
  "kernelspec": {
   "display_name": "Python 3",
   "language": "python",
   "name": "python3"
  },
  "language_info": {
   "codemirror_mode": {
    "name": "ipython",
    "version": 3
   },
   "file_extension": ".py",
   "mimetype": "text/x-python",
   "name": "python",
   "nbconvert_exporter": "python",
   "pygments_lexer": "ipython3",
   "version": "3.6.7"
  }
 },
 "nbformat": 4,
 "nbformat_minor": 2
}
