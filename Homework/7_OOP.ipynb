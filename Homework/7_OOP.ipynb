{
 "cells": [
  {
   "cell_type": "markdown",
   "metadata": {},
   "source": [
    "# 7_OOP"
   ]
  },
  {
   "cell_type": "markdown",
   "metadata": {},
   "source": [
    "## Homework"
   ]
  },
  {
   "cell_type": "markdown",
   "metadata": {},
   "source": [
    "* ### 1번"
   ]
  },
  {
   "cell_type": "markdown",
   "metadata": {},
   "source": [
    "* math\n",
    "* sys\n",
    "* 3\n",
    "* 4\n",
    "* 5"
   ]
  },
  {
   "cell_type": "markdown",
   "metadata": {},
   "source": [
    "* ### 2번"
   ]
  },
  {
   "cell_type": "markdown",
   "metadata": {},
   "source": [
    "1. True\n",
    "2. False\n",
    "3. True\n",
    "4. True\n",
    "5. True"
   ]
  },
  {
   "cell_type": "markdown",
   "metadata": {},
   "source": [
    "* ### 3번"
   ]
  },
  {
   "cell_type": "code",
   "execution_count": 26,
   "metadata": {},
   "outputs": [
    {
     "name": "stdout",
     "output_type": "stream",
     "text": [
      "안녕하세요. 홍길동입니다. 20살입니다.\n",
      "안녕하세요. 둘리입니다. 0살입니다.\n"
     ]
    }
   ],
   "source": [
    "class Person:\n",
    "    def __init__(self, name, age=0):\n",
    "        self.name = name\n",
    "        self.age = age\n",
    "    \n",
    "    def greeting(self):\n",
    "        print(f'안녕하세요. {self.name}입니다. {self.age}살입니다.')\n",
    "\n",
    "        \n",
    "p1 = Person('홍길동', 20)\n",
    "p1.greeting()\n",
    "\n",
    "p2 = Person('둘리')\n",
    "p2.greeting()"
   ]
  }
 ],
 "metadata": {
  "kernelspec": {
   "display_name": "Python 3",
   "language": "python",
   "name": "python3"
  },
  "language_info": {
   "codemirror_mode": {
    "name": "ipython",
    "version": 3
   },
   "file_extension": ".py",
   "mimetype": "text/x-python",
   "name": "python",
   "nbconvert_exporter": "python",
   "pygments_lexer": "ipython3",
   "version": "3.6.7"
  }
 },
 "nbformat": 4,
 "nbformat_minor": 2
}
