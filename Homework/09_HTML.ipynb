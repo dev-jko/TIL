{
 "cells": [
  {
   "cell_type": "markdown",
   "metadata": {},
   "source": [
    "# 09_HTML"
   ]
  },
  {
   "cell_type": "markdown",
   "metadata": {},
   "source": [
    "## homework"
   ]
  },
  {
   "cell_type": "markdown",
   "metadata": {},
   "source": [
    "* ### 1번"
   ]
  },
  {
   "cell_type": "markdown",
   "metadata": {},
   "source": [
    "***[3번]***\n",
    "1. Hyperlinks and Text Markup Language\n",
    "2. HomeTool Markup Language\n",
    "3. ***HyperText Markup Language***\n",
    "4. HyperTool Markup Language"
   ]
  },
  {
   "cell_type": "markdown",
   "metadata": {},
   "source": [
    "* ### 2번"
   ]
  },
  {
   "cell_type": "markdown",
   "metadata": {},
   "source": [
    "1. F\n",
    "2. F\n",
    "3. T (매우 애매함)\n",
    "4. T"
   ]
  },
  {
   "cell_type": "markdown",
   "metadata": {},
   "source": [
    "* ### 3번"
   ]
  },
  {
   "cell_type": "markdown",
   "metadata": {},
   "source": [
    "* `article`\n",
    "* `footer`\n",
    "* `nav`"
   ]
  },
  {
   "cell_type": "markdown",
   "metadata": {},
   "source": [
    "* ### 4번"
   ]
  },
  {
   "cell_type": "markdown",
   "metadata": {},
   "source": [
    "```html\n",
    "<form action=\"POST\" style=\"border: 1px solid; width: 300px; padding: 3px\">\n",
    "    <label for=\"userid\">ID : </label>\n",
    "    <input type=\"text\" id=\"userid\" name=\"userid\" value=\"user\">\n",
    "    <br>\n",
    "    <label for=\"pw\">PWD : </label>\n",
    "    <input type=\"password\" id=\"pw\" name=\"pw\" value=\"1234\">\n",
    "    <input type=\"submit\" value=\"로그인\">\n",
    "</form>\n",
    "```"
   ]
  }
 ],
 "metadata": {
  "kernelspec": {
   "display_name": "Python 3",
   "language": "python",
   "name": "python3"
  },
  "language_info": {
   "codemirror_mode": {
    "name": "ipython",
    "version": 3
   },
   "file_extension": ".py",
   "mimetype": "text/x-python",
   "name": "python",
   "nbconvert_exporter": "python",
   "pygments_lexer": "ipython3",
   "version": "3.6.7"
  }
 },
 "nbformat": 4,
 "nbformat_minor": 2
}
