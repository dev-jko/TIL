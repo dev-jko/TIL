{
 "cells": [
  {
   "cell_type": "markdown",
   "metadata": {},
   "source": [
    "# Problem set"
   ]
  },
  {
   "cell_type": "markdown",
   "metadata": {},
   "source": [
    "## 19-01-09 화"
   ]
  },
  {
   "cell_type": "markdown",
   "metadata": {},
   "source": [
    "### 1. 이상한 덧셈\n",
    "> 숫자로 구성된 리스트에서 양의 정수의 합을 구하는 함수, `positive_sum`을 만들어 보아요\n",
    "\n",
    "ex)\n",
    "```python\n",
    "positive_sum([1, -10, 2]) # 3\n",
    "positive_sum([-1, -2, -3, -4]) # 0\n",
    "```"
   ]
  },
  {
   "cell_type": "code",
   "execution_count": 1,
   "metadata": {},
   "outputs": [
    {
     "name": "stdout",
     "output_type": "stream",
     "text": [
      "3\n",
      "0\n"
     ]
    }
   ],
   "source": [
    "def positive_sum(nums):\n",
    "    result = 0\n",
    "    for i in nums:\n",
    "        result += i if i > 0 else 0\n",
    "    return result\n",
    "    \n",
    "    \n",
    "print(positive_sum([1, -10, 2])) # 3\n",
    "print(positive_sum([-1, -2, -3, -4])) # 0"
   ]
  },
  {
   "cell_type": "markdown",
   "metadata": {},
   "source": [
    "### 2. 문자열 탐색\n",
    "> 문자열 요소로만 이루어진 리스트를 넣었을 때, 문자열의 길이가 2 이상이고 주어진 문자열의 첫 번째와 마지막 문자가 같은 문자열의 수를 세는 함수 `start_end`를 작성하세요\n",
    "\n",
    "ex)\n",
    "```python\n",
    "start_end(['level', 'asdwe', 's', 'adadsfa', 'q1q']) # 3\n",
    "```"
   ]
  },
  {
   "cell_type": "code",
   "execution_count": 3,
   "metadata": {},
   "outputs": [
    {
     "data": {
      "text/plain": [
       "3"
      ]
     },
     "execution_count": 3,
     "metadata": {},
     "output_type": "execute_result"
    }
   ],
   "source": [
    "def start_end(strings):\n",
    "    result = 0\n",
    "    for string in strings:\n",
    "        if len(string) < 2 or string[0] != string[-1]:\n",
    "            continue\n",
    "        result += 1\n",
    "    return result\n",
    "    \n",
    "    \n",
    "start_end(['level', 'asdwe', 's', 'adadsfa', 'q1q']) # 3"
   ]
  },
  {
   "cell_type": "markdown",
   "metadata": {},
   "source": [
    "### 3. Collatz\n",
    "> Collatz 추측: 어떤 자연수 n 이던지, 다음과 같은 작업을 반복하면 1로 만들수 있다\n",
    "1. n이 짝수라면 2로 나눈다.\n",
    "2. n이 홀수라면 3을 곱하고 1을 더한다.\n",
    "3. 결과로 나온 수에 1 / 2 의 작업을 1이 될때까지 반복한다.\n",
    "\n",
    "> 예를 들어 n이 6이면, 6 > 3 > 10 > 5 > 16 > 8 > 4 > 2 > 1이 되며 8번만에 1이 됩니다. 자연수 n이 들어왔을 때, 몇 번의 작업만에 1이 되는지를 `return` 하는 함수 `collatz()`를 완성하세요\n",
    "\n",
    "> 단! 500번을 넘어가도 1이 되지 않는다면, -1을 `return`할게요\n",
    "\n",
    "ex)\n",
    "```python\n",
    "collatz(6)  # 8\n",
    "collatz(16)  # 4\n",
    "collatz(6263313)  # -1\n",
    "```"
   ]
  },
  {
   "cell_type": "code",
   "execution_count": 2,
   "metadata": {},
   "outputs": [
    {
     "name": "stdout",
     "output_type": "stream",
     "text": [
      "8\n",
      "4\n",
      "-1\n"
     ]
    }
   ],
   "source": [
    "def collatz(n):\n",
    "    result = 0    \n",
    "    while n != 1:\n",
    "        result += 1\n",
    "        if result > 500:\n",
    "            return -1\n",
    "        n = n * 3 + 1 if n % 2 else n / 2\n",
    "    return result\n",
    "       \n",
    "    \n",
    "print(collatz(6))  # 8\n",
    "print(collatz(16))  # 4\n",
    "print(collatz(626331))  # -1"
   ]
  },
  {
   "cell_type": "markdown",
   "metadata": {},
   "source": [
    "### 4. 솔로 천국\n",
    "> 리스트가 주어질때, 리스트의 요소 `e`는 `range(0, 10)`에 포함되는 자연수이다. 리스트에서 같은 숫자는 하나만 남기고 전부 제거하여 `return`하는 함수 `lonely()`를 작성해 보세요. 이때! 제거된 후 남은 수들을 반환할 때는 리스트의 요소들이 순서를 유지해야 합니다!\n",
    "\n",
    "ex)\n",
    "```python\n",
    "lonely([1, 1, 3, 3, 0, 1, 1, 3, 0, 3])  # [1, 3, 0]\n",
    "lonely([4, 4, 3, 3, 3, 4])  # [4, 3]\n",
    "```"
   ]
  },
  {
   "cell_type": "code",
   "execution_count": 11,
   "metadata": {},
   "outputs": [
    {
     "name": "stdout",
     "output_type": "stream",
     "text": [
      "[1, 3, 0]\n",
      "[4, 3]\n"
     ]
    }
   ],
   "source": [
    "def lonely(nums):\n",
    "    result = []\n",
    "    for i in nums:\n",
    "        if i not in result:\n",
    "            result.append(i)\n",
    "    return result\n",
    "\n",
    "\n",
    "print(lonely([1, 1, 3, 3, 0, 1, 1, 3, 0, 3]))  # [1, 3, 0]\n",
    "print(lonely([4, 4, 3, 3, 3, 4]))  # [4, 3]"
   ]
  },
  {
   "cell_type": "markdown",
   "metadata": {},
   "source": [
    "### 5. * RGB 삼각형\n",
    "`프로젝터에 나온 표 보고 풀기`\n",
    ">  입력으로 `'R', 'G', 'B'`가 섞여있는 문자열이 들어온다. 문자열은 다음과 같이 합쳐진다. 해당 문자열을 처리하여 마지막 색깔만 `return`하는 `triangle()`을 작성하세요\n",
    "```\n",
    "R R G B R G B B\n",
    " R B R G B R B\n",
    "  G G B R G G\n",
    "   G R G B G\n",
    "    B B R R\n",
    "     B G R\n",
    "      R B\n",
    "       G\n",
    "```\n",
    "\n",
    "ex)\n",
    "```python\n",
    "triangle('RRGBRGBB')  # G\n",
    "triangle('GB')  # R\n",
    "triangle('B')  # B\n",
    "triangle('RGBG')  # B\n",
    "```"
   ]
  },
  {
   "cell_type": "code",
   "execution_count": 7,
   "metadata": {},
   "outputs": [
    {
     "name": "stdout",
     "output_type": "stream",
     "text": [
      "G\n",
      "R\n",
      "B\n",
      "B\n"
     ]
    }
   ],
   "source": [
    "# def triangle(string):\n",
    "#     rgb = { 'RR': 'R', 'GG': 'G', 'BB': 'B',\n",
    "#            'BG': 'R', 'RG': 'B', 'BR': 'G',\n",
    "#            'GB': 'R', 'GR': 'B', 'RB': 'G' }\n",
    "#     while len(string) > 1:\n",
    "#         temp = []\n",
    "#         for i in range(len(string) - 1):\n",
    "#             key = string[i] + string[i + 1]\n",
    "#             temp.append(rgb[key])\n",
    "#         string = temp\n",
    "#     return string[0]\n",
    "\n",
    "\n",
    "def triangle(string):\n",
    "    rgb = { 'R', 'G', 'B' }\n",
    "    while len(string) > 1:\n",
    "        temp = []\n",
    "        for i in range(len(string) - 1):\n",
    "            if string[i] == string[i + 1]:\n",
    "                color = string[i]\n",
    "            else:\n",
    "                my_set = { string[i], string[i + 1] }\n",
    "                color = rgb - my_set \n",
    "            temp += list(color)[0]\n",
    "        string = temp\n",
    "    return string[0]\n",
    "\n",
    "\n",
    "\n",
    "print(triangle('RRGBRGBB'))  # G\n",
    "print(triangle('GB'))  # R\n",
    "print(triangle('B'))  # B\n",
    "print(triangle('RGBG'))  # B"
   ]
  },
  {
   "cell_type": "markdown",
   "metadata": {},
   "source": [
    "### 6. 홀수개를 찾아라\n",
    "> 입력으로 list가 한개 들어옵니다. 이 list에는 1개의 숫자만 홀수개 들어있습니다. 이 1개의 홀수개인 숫자를 `return`하는 `find_odd()`를 작성하세요\n",
    "\n",
    "ex)\n",
    "```python\n",
    "find_odd([1, 1, 2, 2, 3, 3, 3])  # 3\n",
    "find_odd([2 , 1 ,2 ])  # 1\n",
    "find_odd([1, 2, 2, 3, 2, 2, 1])  # 3\n",
    "```"
   ]
  },
  {
   "cell_type": "code",
   "execution_count": 2,
   "metadata": {},
   "outputs": [
    {
     "name": "stdout",
     "output_type": "stream",
     "text": [
      "3\n",
      "1\n",
      "3\n"
     ]
    }
   ],
   "source": [
    "def find_odd(numbers):\n",
    "    for i in list(set(numbers)):\n",
    "        if numbers.count(i) % 2:\n",
    "            return i\n",
    "    return None\n",
    "\n",
    "\n",
    "print(find_odd([1, 1, 2, 2, 3, 3, 3]))  # 3\n",
    "print(find_odd([2 , 1 ,2 ]))  # 1\n",
    "print(find_odd([1, 2, 2, 3, 2, 2, 1]))  # 3"
   ]
  },
  {
   "cell_type": "markdown",
   "metadata": {},
   "source": [
    "## 19-01-09 수"
   ]
  },
  {
   "cell_type": "markdown",
   "metadata": {},
   "source": [
    "### 1. UP & DOWN\n",
    "> 우리가 `range(1, 101)` 중 하나를 생각한다. 컴퓨터가 절반에 위치한 숫자를 물어보고, 생각한 수보다 크면 1, 작으면 -1, 맞으면 0을 입력한다. 이때 몇번만에 맞췄는지 출력한다.\n",
    "\n",
    "예시)\n",
    "```python\n",
    "숫자를 생각하세요..\n",
    "50\n",
    "> -1\n",
    "25\n",
    "> -1\n",
    "13\n",
    "> -1\n",
    "7\n",
    "> 1\n",
    "10\n",
    "> 1\n",
    "12\n",
    "> 0\n",
    "6번만에 맞혔습니다\n",
    "```"
   ]
  },
  {
   "cell_type": "code",
   "execution_count": 13,
   "metadata": {},
   "outputs": [
    {
     "name": "stdout",
     "output_type": "stream",
     "text": [
      "숫자 입력 : 100\n",
      "50\n",
      "> 1\n",
      "75\n",
      "> 1\n",
      "87\n",
      "> 1\n",
      "93\n",
      "> 1\n",
      "96\n",
      "> 1\n",
      "98\n",
      "> 1\n",
      "99\n",
      "> 1\n",
      "100\n",
      "0\n",
      "8번만에 맞혔습니다.\n"
     ]
    }
   ],
   "source": [
    "def guess_up_down(my_num, min_num, max_num):\n",
    "    if not (min_num <= my_num <= max_num):\n",
    "        print('잘못된 입력입니다.')\n",
    "    count = 0\n",
    "    guess = -1\n",
    "    temp = -1\n",
    "    while guess != my_num:\n",
    "        count += 1\n",
    "        guess = (min_num + max_num) // 2\n",
    "        if temp == guess:\n",
    "            guess += 1\n",
    "        print(f'{guess}')\n",
    "        if guess < my_num:\n",
    "            print('> 1')\n",
    "            min_num = guess\n",
    "        elif guess > my_num:\n",
    "            print('> -1')\n",
    "            max_num = guess\n",
    "        temp = guess\n",
    "    print(f'0\\n{count}번만에 맞혔습니다.')\n",
    "    \n",
    "    \n",
    "my_num = int(input('숫자 입력 : '))\n",
    "guess_up_down(my_num, 1, 100)"
   ]
  },
  {
   "cell_type": "markdown",
   "metadata": {},
   "source": [
    "### 2. ㅁㄻㄹ"
   ]
  },
  {
   "cell_type": "code",
   "execution_count": null,
   "metadata": {},
   "outputs": [],
   "source": []
  },
  {
   "cell_type": "markdown",
   "metadata": {},
   "source": [
    "### 3. "
   ]
  },
  {
   "cell_type": "code",
   "execution_count": null,
   "metadata": {},
   "outputs": [],
   "source": []
  },
  {
   "cell_type": "markdown",
   "metadata": {},
   "source": [
    "### 4. "
   ]
  },
  {
   "cell_type": "code",
   "execution_count": null,
   "metadata": {},
   "outputs": [],
   "source": []
  },
  {
   "cell_type": "markdown",
   "metadata": {},
   "source": [
    "### 5. "
   ]
  },
  {
   "cell_type": "code",
   "execution_count": null,
   "metadata": {},
   "outputs": [],
   "source": []
  },
  {
   "cell_type": "markdown",
   "metadata": {},
   "source": []
  },
  {
   "cell_type": "code",
   "execution_count": null,
   "metadata": {},
   "outputs": [],
   "source": []
  },
  {
   "cell_type": "markdown",
   "metadata": {},
   "source": []
  },
  {
   "cell_type": "code",
   "execution_count": null,
   "metadata": {},
   "outputs": [],
   "source": []
  },
  {
   "cell_type": "markdown",
   "metadata": {},
   "source": []
  },
  {
   "cell_type": "code",
   "execution_count": null,
   "metadata": {},
   "outputs": [],
   "source": []
  }
 ],
 "metadata": {
  "kernelspec": {
   "display_name": "Python 3",
   "language": "python",
   "name": "python3"
  },
  "language_info": {
   "codemirror_mode": {
    "name": "ipython",
    "version": 3
   },
   "file_extension": ".py",
   "mimetype": "text/x-python",
   "name": "python",
   "nbconvert_exporter": "python",
   "pygments_lexer": "ipython3",
   "version": "3.6.7"
  }
 },
 "nbformat": 4,
 "nbformat_minor": 2
}
