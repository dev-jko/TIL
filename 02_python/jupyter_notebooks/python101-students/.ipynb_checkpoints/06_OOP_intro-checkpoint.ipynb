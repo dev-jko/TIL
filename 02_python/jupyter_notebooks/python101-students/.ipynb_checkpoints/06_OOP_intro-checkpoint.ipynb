{
 "cells": [
  {
   "cell_type": "markdown",
   "metadata": {},
   "source": [
    "# 시작하기전에\n",
    "\n",
    "<wikipedia - 객체지향 프로그래밍> \n",
    ">\n",
    "> 객체 지향 프로그래밍(영어: Object-Oriented Programming, OOP)은 컴퓨터 프로그래밍의 패러다임의 하나이다. 객체 지향 프로그래밍은 컴퓨터 프로그램을 명령어의 목록으로 보는 시각에서 벗어나 여러 개의 독립된 단위, 즉 \"객체\"들의 모임으로 파악하고자 하는 것이다. 각각의 객체는 메시지를 주고받고, 데이터를 처리할 수 있다.\n",
    ">\n",
    "> 명령형 프로그래밍인 절차지향 프로그래밍에서 발전된 형태를 나타내며, 기본 구성요소는 다음과 같다.\n",
    "\n",
    "* 클래스(Class) - 같은 종류(또는 문제 해결을 위한)의 집단에 속하는 속성(attribute)과 행위(behavior)를 정의한 것으로 객체지향 프로그램의 기본적인 사용자 정의 데이터형(user define data type)이라고 할 수 있다. 클래스는 프로그래머가 아니지만 해결해야 할 문제가 속하는 영역에 종사하는 사람이라면 사용할 수 있고, 다른 클래스 또는 외부 요소와 독립적으로 디자인하여야 한다.\n",
    "\n",
    "\n",
    "* 인스턴스 - 클래스의 인스턴스(실제로 메모리상에 할당된 것)이다. 객체는 자신 고유의 속성(attribute)을 가지며 클래스에서 정의한 행위(behavior)를 수행할 수 있다. 객체의 행위는 클래스에 정의된 행위에 대한 정의를 공유함으로써 메모리를 경제적으로 사용한다.\n",
    "\n",
    "\n",
    "* 메서드(Method) - 클래스로부터 생성된 객체를 사용하는 방법으로서 객체에 명령을 내리는 것이라 할 수 있다. 메서드는 한 객체의 속성을 조작하는 데 사용된다."
   ]
  },
  {
   "cell_type": "code",
   "execution_count": 1,
   "metadata": {},
   "outputs": [
    {
     "name": "stdout",
     "output_type": "stream",
     "text": [
      "<class 'complex'>\n"
     ]
    }
   ],
   "source": [
    "# 복소수를 하나 만들어보고, 타입을 출력해봅시다.\n",
    "img_number = 3 + 4j\n",
    "print(type(img_number))"
   ]
  },
  {
   "cell_type": "code",
   "execution_count": 2,
   "metadata": {},
   "outputs": [
    {
     "name": "stdout",
     "output_type": "stream",
     "text": [
      "3.0\n",
      "4.0\n"
     ]
    }
   ],
   "source": [
    "# 허수부랑 실수부를 함께 출력해봅시다.\n",
    "print(img_number.real)\n",
    "print(img_number.imag)"
   ]
  },
  {
   "cell_type": "code",
   "execution_count": 6,
   "metadata": {},
   "outputs": [
    {
     "name": "stdout",
     "output_type": "stream",
     "text": [
      "[1, 2, 3]\n"
     ]
    }
   ],
   "source": [
    "# 리스트를 하나 만들고 정렬해봅시다.\n",
    "a = [3, 2, 1]\n",
    "a.sort()\n",
    "print(a)"
   ]
  },
  {
   "cell_type": "code",
   "execution_count": 8,
   "metadata": {},
   "outputs": [
    {
     "name": "stdout",
     "output_type": "stream",
     "text": [
      "['__add__', '__class__', '__contains__', '__delattr__', '__delitem__', '__dir__', '__doc__', '__eq__', '__format__', '__ge__', '__getattribute__', '__getitem__', '__gt__', '__hash__', '__iadd__', '__imul__', '__init__', '__init_subclass__', '__iter__', '__le__', '__len__', '__lt__', '__mul__', '__ne__', '__new__', '__reduce__', '__reduce_ex__', '__repr__', '__reversed__', '__rmul__', '__setattr__', '__setitem__', '__sizeof__', '__str__', '__subclasshook__', 'append', 'clear', 'copy', 'count', 'extend', 'index', 'insert', 'pop', 'remove', 'reverse', 'sort']\n"
     ]
    }
   ],
   "source": [
    "# 리스트가 할 수 있는 것들을 알아봅시다.\n",
    "print(dir(list))"
   ]
  },
  {
   "cell_type": "markdown",
   "metadata": {},
   "source": [
    "## 실습 문제\n",
    "\n",
    "> 프로그래밍으로 나와 친구의 이름을 저장해보세요.\n",
    ">\n",
    "\n",
    "**각자의 명함과 지갑을 만들어봅시다.**\n",
    "\n",
    "* 내 생일, 전화번호, 이메일주소 정보를 담은 변수를 확인해봅시다.\n",
    "\n",
    "* 주머니(pocket)에는 돈(won)을 포함하여 현재 가지고 있는 것을 작성해보세요.\n",
    "\n",
    "* 나는 인사를 하면서 내 명함에 있는 정보 하나를 이야기합니다. `greeting` 함수를 만듭시다.\n",
    "\n",
    "* 나는 주머니에 원하는 것과 갯수를 지정하여 넣을 수 있습니다. \n",
    "\n",
    "  기존에 값이 있으면, 갯수를 추가하고 없으면 새로 만드는 `in_my_pocket` 함수를 만듭시다.\n",
    "  \n",
    "**친구의 정보와 지갑도 만들어봅시다.**"
   ]
  },
  {
   "cell_type": "code",
   "execution_count": 15,
   "metadata": {},
   "outputs": [
    {
     "name": "stdout",
     "output_type": "stream",
     "text": [
      "hi, name는 고재두\n",
      "hi, phone는 01023456789\n",
      "hi, email는 123@123.123\n"
     ]
    }
   ],
   "source": [
    "# 아래에 자유롭게 코드를 작성해보세요.\n",
    "my_info = {\n",
    "    'name': '고재두',\n",
    "    'phone': '01023456789',\n",
    "    'email': '123@123.123'\n",
    "}\n",
    "\n",
    "my_pocket = {\n",
    "    'money': 1000,\n",
    "    'laptop': 'asus',\n",
    "    'candy': 3\n",
    "}\n",
    "\n",
    "def greeting(info):\n",
    "    for key, value in info.items():\n",
    "        print(f'hi, {key}는 {value}')\n",
    "          \n",
    "          \n",
    "greeting(my_info)"
   ]
  },
  {
   "cell_type": "code",
   "execution_count": 22,
   "metadata": {},
   "outputs": [],
   "source": [
    "mates = {\n",
    "    'info_1': {\n",
    "        'name': '고재두',\n",
    "        'gitname': 'nadarm'\n",
    "    },\n",
    "    'info_2': {\n",
    "        'name': '이종화',\n",
    "        'gitname': 'brbu11'\n",
    "    },\n",
    "    'info_3': {\n",
    "        'name': '이상택',\n",
    "        'gitname': 'mnoko33'\n",
    "    }\n",
    "}\n",
    "\n",
    "\n",
    "\n",
    "\n",
    "def arrive(mate):\n",
    "    if mate['name'] == '고재두':\n",
    "        print('출첵')\n",
    "        print('사물함')\n",
    "        print('물')\n",
    "        "
   ]
  },
  {
   "cell_type": "code",
   "execution_count": 17,
   "metadata": {},
   "outputs": [
    {
     "data": {
      "text/plain": [
       "{'money': 1000, 'laptop': 'asus', 'candy': 3, 'pen': 2}"
      ]
     },
     "execution_count": 17,
     "metadata": {},
     "output_type": "execute_result"
    }
   ],
   "source": [
    "# in_my_pocket 함수를 통해 내 주머니에 내용을 추가해봅시다.\n",
    "\n",
    "def in_my_pocket(pocket, stuff, count):\n",
    "    if pocket.get(stuff):\n",
    "        pocket[stuff] += count\n",
    "    else:\n",
    "        pocket[stuff] = count\n",
    "    return pocket\n",
    "\n",
    "\n",
    "my_pocket\n",
    "in_my_pocket(my_pocket, 'pen', 1)"
   ]
  },
  {
   "cell_type": "code",
   "execution_count": 18,
   "metadata": {},
   "outputs": [
    {
     "name": "stdout",
     "output_type": "stream",
     "text": [
      "hi, name는 고재두\n",
      "hi, phone는 01023456789\n",
      "hi, email는 123@123.123\n"
     ]
    }
   ],
   "source": [
    "# greeting 함수를 통해 인사를 해봅시다.\n",
    "#=> 안녕, kim이야. 01012345678\n",
    "\n",
    "greeting(my_info)"
   ]
  },
  {
   "cell_type": "markdown",
   "metadata": {},
   "source": [
    "# 클래스 및 인스턴스"
   ]
  },
  {
   "cell_type": "markdown",
   "metadata": {},
   "source": [
    "## 클래스 객체\n",
    "\n",
    "```python\n",
    "class ClassName:\n",
    "    \n",
    "```\n",
    "\n",
    "* 선언과 동시에 클래스 객체가 생성됨.\n",
    "\n",
    "* 또한, 선언된 공간은 지역 스코프로 사용된다.\n",
    "\n",
    "* 정의된 어트리뷰트 중 변수는 멤버 변수로 불리운다.\n",
    "\n",
    "* 정의된 함수(`def`)는 메서드로 불리운다."
   ]
  },
  {
   "cell_type": "code",
   "execution_count": 8,
   "metadata": {},
   "outputs": [
    {
     "name": "stdout",
     "output_type": "stream",
     "text": [
      "ko nadarm\n",
      "ko는 도착하면 check 한다.\n",
      "leejh brbu11\n",
      "leejh는 도착하면 check 한다.\n",
      "leest mnoko33\n",
      "leest는 도착하면 check 한다.\n",
      "3 703\n",
      "3 703\n",
      "3 703\n"
     ]
    }
   ],
   "source": [
    "# Class를 만들어봅시다.\n",
    "class Mate:\n",
    "    classroom = 703\n",
    "    ban = 3\n",
    "        \n",
    "    def __init__(self, name, gitname, arrive):\n",
    "        self.name = name\n",
    "        self.gitname = gitname\n",
    "        self.arrive = arrive\n",
    "    \n",
    "#     def set_info(self, name, gitname, arrive):\n",
    "#         self.name = name\n",
    "#         self.gitname = gitname\n",
    "#         self.arrive = arrive\n",
    "        \n",
    "    def get_info(self):\n",
    "        print(self.name, self.gitname)\n",
    "        \n",
    "    def dochak(self):\n",
    "        print(f'{self.name}는 도착하면 {self.arrive} 한다.')\n",
    "        \n",
    "        \n",
    "# ko = Mate();\n",
    "# ko.set_info('ko', 'nadarm', 'check')\n",
    "# ko.get_info()\n",
    "# ko.dochak()\n",
    "\n",
    "# lee = Mate();\n",
    "# lee.set_info('lee', 'brbu11', 'check')\n",
    "# lee.get_info()\n",
    "# lee.dochak()\n",
    "\n",
    "ko = Mate('ko', 'nadarm', 'check');\n",
    "ko.get_info()\n",
    "ko.dochak()\n",
    "\n",
    "leejh = Mate('leejh', 'brbu11', 'check');\n",
    "leejh.get_info()\n",
    "leejh.dochak()\n",
    "\n",
    "leest = Mate('leest', 'mnoko33', 'check');\n",
    "leest.get_info()\n",
    "leest.dochak()\n",
    "\n",
    "print(ko.ban, ko.classroom)\n",
    "print(leejh.ban, leejh.classroom)\n",
    "print(leest.ban, leest.classroom)"
   ]
  },
  {
   "cell_type": "code",
   "execution_count": 17,
   "metadata": {},
   "outputs": [
    {
     "name": "stdout",
     "output_type": "stream",
     "text": [
      "<class 'type'>\n",
      "<class 'int'>\n",
      "<class '__main__.TestClass'>\n",
      "Test Class\n",
      "    this is test class\n",
      "    \n"
     ]
    }
   ],
   "source": [
    "class TestClass:\n",
    "    \"\"\"Test Class\n",
    "    this is test class\n",
    "    \"\"\"\n",
    "    \n",
    "    \n",
    "print(type(TestClass))\n",
    "print(type(1))\n",
    "\n",
    "tc = TestClass()\n",
    "print(type(tc))\n",
    "print(tc.__doc__)"
   ]
  },
  {
   "cell_type": "code",
   "execution_count": 13,
   "metadata": {},
   "outputs": [
    {
     "name": "stdout",
     "output_type": "stream",
     "text": [
      "A santa at NASA\n",
      "False\n",
      "a\n",
      "맞음\n"
     ]
    },
    {
     "data": {
      "text/plain": [
       "True"
      ]
     },
     "execution_count": 13,
     "metadata": {},
     "output_type": "execute_result"
    }
   ],
   "source": [
    "class Text:\n",
    "    def __init__(self, content):\n",
    "        self.content = content\n",
    "        \n",
    "    def is_palinderome(self):\n",
    "        string = self.content\n",
    "        while(len(string) > 1):\n",
    "            if string[0] == string[-1]:\n",
    "                string = string[1:-1]\n",
    "            else:\n",
    "                return False\n",
    "        return True\n",
    "    \n",
    "    def start_hangman(self):\n",
    "        guess = input()\n",
    "        if guess in self.content:\n",
    "            print('맞음')\n",
    "            return True\n",
    "        else:\n",
    "            print('틀림')\n",
    "            return False\n",
    "    \n",
    "        \n",
    "my_text = Text('A santa at NASA')\n",
    "print(my_text.content)\n",
    "print(my_text.is_palinderome())\n",
    "\n",
    "your_text = Text('apple')\n",
    "your_text.start_hangman()"
   ]
  },
  {
   "cell_type": "code",
   "execution_count": 13,
   "metadata": {},
   "outputs": [
    {
     "name": "stdout",
     "output_type": "stream",
     "text": [
      "ko nadarm\n"
     ]
    },
    {
     "data": {
      "text/plain": [
       "'홍길동'"
      ]
     },
     "execution_count": 13,
     "metadata": {},
     "output_type": "execute_result"
    }
   ],
   "source": [
    "# Person 클래스를 만들어봅시다.\n",
    "class Person:\n",
    "    name = '홍길동'\n",
    "    \n",
    "    def __init__(self, name, gitname):\n",
    "        self.name = name\n",
    "        self.gitname = gitname\n",
    "        \n",
    "    def print_info(self):\n",
    "        print(self.name, self.gitname)\n",
    "\n",
    "    def intro(self):\n",
    "        print(f'이름 : {self.name}')\n",
    "        \n",
    "ko = Person('ko', 'nadarm')\n",
    "ko.print_info()\n",
    "Person.name"
   ]
  },
  {
   "cell_type": "markdown",
   "metadata": {},
   "source": [
    "* 선언시 self는 반드시 작성해주세요! 나중에 설명드립니다."
   ]
  },
  {
   "cell_type": "markdown",
   "metadata": {},
   "source": [
    "## 인스턴스 객체\n",
    "\n",
    "* 인스턴스 객체는 `ClassName()`을 호출함으로써 선언된다.\n",
    "\n",
    "* 인스턴스 객체와 클래스 객체는 서로 다른 이름 공간을 가지고 있다.\n",
    "\n",
    "* 인스턴스 -> 클래스 -> 전역 순으로 탐색을 한다."
   ]
  },
  {
   "cell_type": "code",
   "execution_count": 10,
   "metadata": {},
   "outputs": [],
   "source": [
    "# Person라는 클래스 iu의 인스턴스를 만들어봅시다. \n",
    "iu = Person('iu', 'iu_git')"
   ]
  },
  {
   "cell_type": "code",
   "execution_count": 14,
   "metadata": {},
   "outputs": [
    {
     "name": "stdout",
     "output_type": "stream",
     "text": [
      "iu iu_git\n"
     ]
    }
   ],
   "source": [
    "# 인사하는 메서드를 호출해봅시다.\n",
    "iu.print_info()"
   ]
  },
  {
   "cell_type": "code",
   "execution_count": 12,
   "metadata": {},
   "outputs": [
    {
     "data": {
      "text/plain": [
       "'iu'"
      ]
     },
     "execution_count": 12,
     "metadata": {},
     "output_type": "execute_result"
    }
   ],
   "source": [
    "# iu의 이름을 확인해봅시다.\n",
    "iu.name"
   ]
  },
  {
   "cell_type": "code",
   "execution_count": null,
   "metadata": {},
   "outputs": [],
   "source": [
    "# iu로 이름을 바꿔주세요.\n"
   ]
  },
  {
   "cell_type": "code",
   "execution_count": null,
   "metadata": {},
   "outputs": [],
   "source": [
    "# iu가 인사를 합니다."
   ]
  },
  {
   "cell_type": "code",
   "execution_count": 16,
   "metadata": {},
   "outputs": [
    {
     "data": {
      "text/plain": [
       "True"
      ]
     },
     "execution_count": 16,
     "metadata": {},
     "output_type": "execute_result"
    }
   ],
   "source": [
    "# iu와 Person이 같은지 확인해보겠습니다.\n",
    "isinstance(iu, Person)\n",
    "\n",
    "isinstance([], list)"
   ]
  },
  {
   "cell_type": "code",
   "execution_count": 19,
   "metadata": {
    "scrolled": true
   },
   "outputs": [
    {
     "name": "stdout",
     "output_type": "stream",
     "text": [
      "False\n",
      "True\n"
     ]
    }
   ],
   "source": [
    "# iu와 Person이 같은지 확인해보겠습니다.\n",
    "print(type(iu) == Person)\n",
    "print(type('a') == str)"
   ]
  },
  {
   "cell_type": "code",
   "execution_count": 20,
   "metadata": {
    "scrolled": true
   },
   "outputs": [
    {
     "name": "stdout",
     "output_type": "stream",
     "text": [
      "<__main__.Person object at 0x00000231F374C4E0>\n"
     ]
    }
   ],
   "source": [
    "# iu를 출력해봅시다.\n",
    "print(iu)"
   ]
  },
  {
   "cell_type": "code",
   "execution_count": 21,
   "metadata": {
    "scrolled": false
   },
   "outputs": [
    {
     "data": {
      "text/plain": [
       "<__main__.Person at 0x231f374c4e0>"
      ]
     },
     "execution_count": 21,
     "metadata": {},
     "output_type": "execute_result"
    }
   ],
   "source": [
    "# iu를 출력해봅시다 2.\n",
    "iu"
   ]
  },
  {
   "cell_type": "code",
   "execution_count": null,
   "metadata": {},
   "outputs": [],
   "source": [
    "# type을 확인해봅시다."
   ]
  },
  {
   "cell_type": "markdown",
   "metadata": {},
   "source": [
    "* 파이썬 출력의 비밀 : repr, str"
   ]
  },
  {
   "cell_type": "code",
   "execution_count": null,
   "metadata": {},
   "outputs": [],
   "source": []
  },
  {
   "cell_type": "code",
   "execution_count": 22,
   "metadata": {},
   "outputs": [],
   "source": [
    "# 강다니엘을 만들어봅시다.\n",
    "강다니엘 = Person('gang', 'gang_git')"
   ]
  },
  {
   "cell_type": "code",
   "execution_count": 23,
   "metadata": {},
   "outputs": [
    {
     "name": "stdout",
     "output_type": "stream",
     "text": [
      "이름 : gang\n"
     ]
    }
   ],
   "source": [
    "# 강다니엘을 출력해봅시다.\n",
    "강다니엘.intro()"
   ]
  },
  {
   "cell_type": "markdown",
   "metadata": {},
   "source": [
    "## 실습 문제 발전\n",
    "\n",
    "> 지금까지 배운 것을 통해서 Person 클래스를 만들고, 친구와 나를 표현해봅시다.\n",
    ">\n",
    "> 주머니와 정보를 가지고 있고 (멤버 변수)\n",
    "> \n",
    "> 인사(`greeting()`)와 주머니에 내용을 추가(`in_my_pocket()`)할 수 있습니다. (메서드)\n",
    ">\n",
    "> 추가적으로 `get_my_pocket()`으로 지갑에 담긴 정보를 가져와 봅시다.\n",
    ">\n",
    "> 그리고 사람을 출력하면, 지갑을 제외한 정보를 보여줘보세요. "
   ]
  },
  {
   "cell_type": "code",
   "execution_count": null,
   "metadata": {},
   "outputs": [],
   "source": [
    "# 아래에 코드를 작성해주세요.    "
   ]
  },
  {
   "cell_type": "markdown",
   "metadata": {},
   "source": [
    "## MyList만들기\n",
    "\n",
    "> 이제 배운 것을 활용하여 나만의 리스트 객체를 만들 수 있습니다. \n",
    ">\n",
    "> `class MyList:`\n",
    ">\n",
    "\n",
    "```\n",
    "* 변수\n",
    "data : 비어 있는 리스트\n",
    "\n",
    "* 메서드 \n",
    "append : 값을 받아 추가합니다.\n",
    "pop : 마지막에 있는 값을 없애고, 해당 값을 리턴합니다.\n",
    "reverse : 제자리에서 뒤집고 리턴 값은 없습니다.\n",
    "count(x) : x의 갯수를 반환합니다.\n",
    "clear : 값을 모두 삭제합니다.\n",
    "\n",
    "__repr__ : ex) '리스트 내용 1, 2, 3'\n",
    "```"
   ]
  },
  {
   "cell_type": "code",
   "execution_count": null,
   "metadata": {},
   "outputs": [],
   "source": [
    "# 아래에 코드를 작성해주세요."
   ]
  },
  {
   "cell_type": "markdown",
   "metadata": {},
   "source": [
    "## 자유롭게 만들어보기\n",
    "\n",
    "> 이 세상에 있는 무엇인가를 자유롭게 표현해주세요."
   ]
  },
  {
   "cell_type": "code",
   "execution_count": 18,
   "metadata": {},
   "outputs": [],
   "source": [
    "# 아래에 코드를 작성해주세요.\n",
    "import random\n",
    "\n",
    "class Pokemon:\n",
    "    species = '포켓몬'\n",
    "    type_weight = {\n",
    "        'normal': { 'strong': [], 'weak': ['rock', 'ghost'] },\n",
    "        'elec': { 'strong': ['water', 'flying'], 'weak': ['ground', 'elec'] },\n",
    "        'water': { 'strong': ['fire', 'ground', 'rock'], 'weak': ['water'] },\n",
    "        'rock': { 'strong': ['fire', 'ice'], 'weak': ['ground'] },\n",
    "        'ground': { 'strong': ['fire', 'elec', 'rock', 'poison'], 'weak': [] },\n",
    "        'ice': { 'strong': ['ground'], 'weak': ['fire', 'water', 'ice'] },\n",
    "        'fire': { 'strong': ['ice'], 'weak': ['fire', 'water', 'rock'] },\n",
    "        'poison': { 'strong': [], 'weak': ['poison', 'rock', 'ground'] }\n",
    "    }\n",
    "    abnormal_conditions = ['poison', 'burn', 'freeze', 'paralysis']\n",
    "    \n",
    "    def __init__(self, name, level):\n",
    "        self.name = name\n",
    "        self.level = level\n",
    "        self.hp = level * 10\n",
    "        \n",
    "    def set_hp(self, point):\n",
    "        self.hp += point\n",
    "        \n",
    "    def get_name(self):\n",
    "        return self.name\n",
    "    \n",
    "    def get_level(self):\n",
    "        return self.level\n",
    "    \n",
    "    def get_hp(self):\n",
    "        return self.hp\n",
    "    \n",
    "    def get_speed(self):\n",
    "        return self.pokemon_stats['speed'] * self.get_level()\n",
    "        \n",
    "    def check_status(self):\n",
    "        if self.hp > 0:\n",
    "            return True\n",
    "        else:\n",
    "            return False\n",
    "        \n",
    "    def check_actionable(self):\n",
    "        return self.pokemon_stats['actionable']\n",
    "    \n",
    "    def change_actionable(self, value):\n",
    "        self.pokemon_stats['actionable'] = value\n",
    "        \n",
    "    def get_type_weight(self, skill_type, enemy):\n",
    "        weight = 1.5\n",
    "        strong_type = self.type_weight[skill_type]['strong']\n",
    "        weak_type = self.type_weight[skill_type]['weak']\n",
    "        for enemy_type in enemy.pokemon_stats['pokemon_type']:\n",
    "            if enemy_type in strong_type:\n",
    "                weight *= 2\n",
    "            if enemy_type in weak_type:\n",
    "                weight /= 2\n",
    "        return weight\n",
    "    \n",
    "    def get_info(self):\n",
    "        return f'{self.get_name()}(lv{self.get_level()}, {self.species})' \n",
    "        \n",
    "    def affect_abnormal_condition(self):\n",
    "        actionable = True\n",
    "        for condition, turn in self.pokemon_stats['condition'].items():\n",
    "            if condition == 'poison':\n",
    "                self.affect_poison(turn)\n",
    "            if condition == 'burn':\n",
    "                self.affect_burn(turn)\n",
    "            if condition == 'freeze':\n",
    "                actionable = actionable and self.affect_freeze(turn)\n",
    "            if condition == 'paralysis':\n",
    "                actionable = actionable and self.affect_paralysis(turn)\n",
    "        self.change_actionable(actionable)\n",
    "                  \n",
    "    def affect_poison(self, turn):\n",
    "        if turn > 0:\n",
    "            self.pokemon_stats['condition']['poison'] -= 1\n",
    "            dmg = int(-1 * self.get_level() * 10 / 16)\n",
    "            self.set_hp(dmg)\n",
    "            print(f'{self.get_info()}은(는) 독에 중독되어 피해를 {-dmg} 입었다.')\n",
    "              \n",
    "    def affect_burn(self, turn):\n",
    "        if turn > 0:\n",
    "            self.pokemon_stats['condition']['burn'] -= 1\n",
    "            dmg = int(-1 * self.get_level() * 10 / 16)\n",
    "            self.set_hp(dmg)\n",
    "            print(f'{self.get_info()}은(는) 화상 피해를 {-dmg} 입었다.')    \n",
    "              \n",
    "    def affect_freeze(self, turn):\n",
    "        if turn > 0:\n",
    "            self.pokemon_stats['condition']['freeze'] -= 1\n",
    "            print(f'{self.get_info()}은(는) 얼어서 움직일 수 없다!')\n",
    "            return False\n",
    "        else:\n",
    "            self.change_actionable(True)\n",
    "            return True\n",
    "    \n",
    "    def affect_paralysis(self, turn):\n",
    "        if turn > 0:\n",
    "            self.pokemon_stats['condition']['paralysis'] -= 1\n",
    "            print(f'{self.get_info()}은(는) 마비되어 움직일 수 없다!')   \n",
    "            return False\n",
    "        else:\n",
    "            return True\n",
    "        \n",
    "    def add_abnormal_conditions(self, enemy, skill_type):\n",
    "        if skill_type == 'fire':\n",
    "            if random.choice(range(100)) < 60:\n",
    "                enemy.pokemon_stats['condition']['burn'] = 2\n",
    "                print(f'{enemy.get_info()}은(는) 화상을 입었다.')\n",
    "        if skill_type == 'ice':\n",
    "            if random.choice(range(100)) < 30:\n",
    "                enemy.pokemon_stats['condition']['freeze'] = 1\n",
    "                print(f'{enemy.get_info()}은(는) 얼었다.')\n",
    "        if skill_type == 'elec':\n",
    "            if random.choice(range(100)) < 30:\n",
    "                enemy.pokemon_stats['condition']['paralysis'] = 1  \n",
    "                print(f'{enemy.get_info()}은(는) 마비됐다.')\n",
    "        if skill_type == 'poison':\n",
    "            if random.choice(range(100)) < 60:\n",
    "                enemy.pokemon_stats['condition']['poison'] = 2\n",
    "                print(f'{enemy.get_info()}은(는) 중독됐다.')\n",
    "        \n",
    "    def attack(self, enemy):\n",
    "        skill = random.choice(self.skill_list)\n",
    "        weight = self.get_type_weight(skill['type'], enemy)\n",
    "        dmg = int(-1 * skill['ap'] * self.level * weight)\n",
    "        enemy.set_hp(dmg)\n",
    "        print(f'{self.get_info()}의 {skill[\"name\"]} 공격')\n",
    "        if weight > 1.5:\n",
    "            print('효과는 굉장했다!')\n",
    "        elif weight < 1.5:\n",
    "            print('효과는 미미했다.')\n",
    "        print(f'{enemy.get_info()}에게 피해를 {-dmg} 입혔다!')\n",
    "        self.add_abnormal_conditions(enemy, skill['type'])\n",
    "        print('-  -  -  -  -  -  -  -  -  -  -  -  -  -')\n",
    "\n",
    "              \n",
    "              \n",
    "class Pikachu(Pokemon):\n",
    "    species = '피카츄'\n",
    "    pokemon_stats = { 'actionable': True, 'pokemon_type': ['elec'], 'speed': 1.5, 'condition': {} }\n",
    "    skill_list = [\n",
    "        { 'name': '몸통 박치기', 'ap': 1, 'type': 'normal' },\n",
    "        { 'name': '10만 볼트', 'ap': 1.2, 'type': 'elec' },\n",
    "        { 'name': '전광석화', 'ap': 1.2, 'type': 'normal' },\n",
    "        { 'name': '번개', 'ap': 1.4, 'type': 'elec' }\n",
    "    ]\n",
    "\n",
    "\n",
    "class Squirtle(Pokemon):\n",
    "    species = '꼬부기'\n",
    "    pokemon_stats = { 'actionable': True, 'pokemon_type': ['water'], 'speed': 1.2, 'condition': {} }\n",
    "    skill_list = [\n",
    "        { 'name': '몸통 박치기', 'ap': 1, 'type': 'normal' },\n",
    "        { 'name': '물대포', 'ap': 1.1, 'type': 'water' },\n",
    "        { 'name': '하이드로펌프', 'ap': 1.4, 'type': 'water' },\n",
    "        { 'name': '냉동 펀치', 'ap': 1.3, 'type': 'ice' }\n",
    "    ]\n",
    "              \n",
    "              \n",
    "class Onix(Pokemon):\n",
    "    species = '롱스톤'\n",
    "    pokemon_stats = { 'actionable': True, 'pokemon_type': ['rock', 'ground'], 'speed': 0.9, 'condition': {} }\n",
    "    skill_list = [\n",
    "        { 'name': '몸통 박치기', 'ap': 1, 'type': 'normal' },\n",
    "        { 'name': '돌떨구기', 'ap': 1.1, 'type': 'rock' },\n",
    "        { 'name': '모래지옥', 'ap': 0.8, 'type': 'ground' },\n",
    "        { 'name': '스톤에지', 'ap': 1.3, 'type': 'rock' }\n",
    "    ]              \n",
    "           \n",
    "              \n",
    "class Charmander(Pokemon):\n",
    "    species = '파이리'\n",
    "    pokemon_stats = { 'actionable': True, 'pokemon_type': ['fire'], 'speed': 1.2, 'condition': {} }\n",
    "    skill_list = [\n",
    "        { 'name': '할퀴기', 'ap': 1, 'type': 'normal' },\n",
    "        { 'name': '불꽃세례', 'ap': 1.1, 'type': 'fire' },\n",
    "        { 'name': '화염방사', 'ap': 1.3, 'type': 'fire' },\n",
    "        { 'name': '불꽃엄니', 'ap': 1.2, 'type': 'fire' }\n",
    "    ] \n",
    "          \n",
    "              \n",
    "class Arbok(Pokemon):\n",
    "    species = '아보크'\n",
    "    pokemon_stats = { 'actionable': True, 'pokemon_type': ['poison'], 'speed': 1.3, 'condition': {} }\n",
    "    skill_list = [\n",
    "        { 'name': '몸통 박치기', 'ap': 1, 'type': 'normal' },\n",
    "        { 'name': '독침', 'ap': 0.8, 'type': 'poison' },\n",
    "        { 'name': '용해액', 'ap': 0.9, 'type': 'poison' },\n",
    "        { 'name': '더스트슈트', 'ap': 1.4, 'type': 'poison' }\n",
    "    ]               \n",
    "              \n",
    "        \n",
    "def battle(p1, p2):\n",
    "    p_list = [p1, p2]\n",
    "    if p1.get_speed() > p2.get_speed():\n",
    "        p_list = [p1, p2]\n",
    "    elif p1.get_speed() < p2.get_speed():\n",
    "        p_list = [p2, p1]\n",
    "    else:\n",
    "        random.shuffle(p_list)\n",
    "    \n",
    "    p_list[0].affect_abnormal_condition()\n",
    "    if p_list[0].check_status() and p_list[0].check_actionable():\n",
    "        p_list[0].attack(p_list[1])\n",
    "        print(f'{p1.get_info()}의 체력 : {p1.get_hp()}\\n{p2.get_info()}의 체력 : {p2.get_hp()}')\n",
    "        print('-----------------------------------------')\n",
    "\n",
    "    if p_list[1].check_status():\n",
    "        p_list[1].affect_abnormal_condition()\n",
    "    if p_list[1].check_status() and p_list[1].check_actionable():\n",
    "        p_list[1].attack(p_list[0])\n",
    "        print(f'{p1.get_info()}의 체력 : {p1.get_hp()}\\n{p2.get_info()}의 체력 : {p2.get_hp()}')\n",
    "        print('-----------------------------------------')\n",
    "        \n",
    "              \n",
    "class PokemonCreater:\n",
    "    pokemon_list = ['Pikachu', 'Squirtle', 'Onix', 'Charmander', 'Arbok']\n",
    "              \n",
    "    def create_pokemon(self, species, nickname):\n",
    "        level = random.choice(range(5, 15))\n",
    "        if species == 'Pikachu':\n",
    "              return Pikachu(nickname, level)\n",
    "        elif species == 'Squirtle':\n",
    "              return Squirtle(nickname, level)\n",
    "        elif species == 'Onix':\n",
    "              return Onix(nickname, level)\n",
    "        elif species == 'Charmander':\n",
    "              return Charmander(nickname, level)\n",
    "        elif species == 'Arbok':\n",
    "              return Arbok(nickname, level)\n",
    "        else:\n",
    "              return None\n",
    "            \n",
    "    def create_random_pokemon(self, nickname):\n",
    "        species = random.choice(self.pokemon_list)\n",
    "        return self.create_pokemon(species, nickname)\n",
    "        \n",
    "              \n",
    "    "
   ]
  },
  {
   "cell_type": "code",
   "execution_count": 19,
   "metadata": {
    "scrolled": true
   },
   "outputs": [
    {
     "name": "stdout",
     "output_type": "stream",
     "text": [
      "+*+*+*+*+*+*+*+*+*+*+*+*+*+*+*+*+*+\n",
      "\n",
      "전투기계(lv12, 피카츄) vs 배틀머신(lv13, 피카츄)\n",
      "\n",
      "+*+*+*+*+*+*+*+*+*+*+*+*+*+*+*+*+*+\n",
      "배틀머신(lv13, 피카츄)의 10만 볼트 공격\n",
      "효과는 미미했다.\n",
      "전투기계(lv12, 피카츄)에게 피해를 11 입혔다!\n",
      "-  -  -  -  -  -  -  -  -  -  -  -  -  -\n",
      "전투기계(lv12, 피카츄)의 체력 : 109\n",
      "배틀머신(lv13, 피카츄)의 체력 : 130\n",
      "-----------------------------------------\n",
      "전투기계(lv12, 피카츄)의 전광석화 공격\n",
      "배틀머신(lv13, 피카츄)에게 피해를 21 입혔다!\n",
      "-  -  -  -  -  -  -  -  -  -  -  -  -  -\n",
      "전투기계(lv12, 피카츄)의 체력 : 109\n",
      "배틀머신(lv13, 피카츄)의 체력 : 109\n",
      "-----------------------------------------\n",
      "배틀머신(lv13, 피카츄)의 몸통 박치기 공격\n",
      "전투기계(lv12, 피카츄)에게 피해를 19 입혔다!\n",
      "-  -  -  -  -  -  -  -  -  -  -  -  -  -\n",
      "전투기계(lv12, 피카츄)의 체력 : 90\n",
      "배틀머신(lv13, 피카츄)의 체력 : 109\n",
      "-----------------------------------------\n",
      "전투기계(lv12, 피카츄)의 번개 공격\n",
      "효과는 미미했다.\n",
      "배틀머신(lv13, 피카츄)에게 피해를 12 입혔다!\n",
      "-  -  -  -  -  -  -  -  -  -  -  -  -  -\n",
      "전투기계(lv12, 피카츄)의 체력 : 90\n",
      "배틀머신(lv13, 피카츄)의 체력 : 97\n",
      "-----------------------------------------\n",
      "배틀머신(lv13, 피카츄)의 전광석화 공격\n",
      "전투기계(lv12, 피카츄)에게 피해를 23 입혔다!\n",
      "-  -  -  -  -  -  -  -  -  -  -  -  -  -\n",
      "전투기계(lv12, 피카츄)의 체력 : 67\n",
      "배틀머신(lv13, 피카츄)의 체력 : 97\n",
      "-----------------------------------------\n",
      "전투기계(lv12, 피카츄)의 10만 볼트 공격\n",
      "효과는 미미했다.\n",
      "배틀머신(lv13, 피카츄)에게 피해를 10 입혔다!\n",
      "-  -  -  -  -  -  -  -  -  -  -  -  -  -\n",
      "전투기계(lv12, 피카츄)의 체력 : 67\n",
      "배틀머신(lv13, 피카츄)의 체력 : 87\n",
      "-----------------------------------------\n",
      "배틀머신(lv13, 피카츄)의 몸통 박치기 공격\n",
      "전투기계(lv12, 피카츄)에게 피해를 19 입혔다!\n",
      "-  -  -  -  -  -  -  -  -  -  -  -  -  -\n",
      "전투기계(lv12, 피카츄)의 체력 : 48\n",
      "배틀머신(lv13, 피카츄)의 체력 : 87\n",
      "-----------------------------------------\n",
      "전투기계(lv12, 피카츄)의 몸통 박치기 공격\n",
      "배틀머신(lv13, 피카츄)에게 피해를 18 입혔다!\n",
      "-  -  -  -  -  -  -  -  -  -  -  -  -  -\n",
      "전투기계(lv12, 피카츄)의 체력 : 48\n",
      "배틀머신(lv13, 피카츄)의 체력 : 69\n",
      "-----------------------------------------\n",
      "배틀머신(lv13, 피카츄)의 10만 볼트 공격\n",
      "효과는 미미했다.\n",
      "전투기계(lv12, 피카츄)에게 피해를 11 입혔다!\n",
      "전투기계(lv12, 피카츄)은(는) 마비됐다.\n",
      "-  -  -  -  -  -  -  -  -  -  -  -  -  -\n",
      "전투기계(lv12, 피카츄)의 체력 : 37\n",
      "배틀머신(lv13, 피카츄)의 체력 : 69\n",
      "-----------------------------------------\n",
      "전투기계(lv12, 피카츄)은(는) 마비되어 움직일 수 없다!\n",
      "배틀머신(lv13, 피카츄)의 번개 공격\n",
      "효과는 미미했다.\n",
      "전투기계(lv12, 피카츄)에게 피해를 13 입혔다!\n",
      "전투기계(lv12, 피카츄)은(는) 마비됐다.\n",
      "-  -  -  -  -  -  -  -  -  -  -  -  -  -\n",
      "전투기계(lv12, 피카츄)의 체력 : 24\n",
      "배틀머신(lv13, 피카츄)의 체력 : 69\n",
      "-----------------------------------------\n",
      "전투기계(lv12, 피카츄)은(는) 마비되어 움직일 수 없다!\n",
      "배틀머신(lv13, 피카츄)의 몸통 박치기 공격\n",
      "전투기계(lv12, 피카츄)에게 피해를 19 입혔다!\n",
      "-  -  -  -  -  -  -  -  -  -  -  -  -  -\n",
      "전투기계(lv12, 피카츄)의 체력 : 5\n",
      "배틀머신(lv13, 피카츄)의 체력 : 69\n",
      "-----------------------------------------\n",
      "전투기계(lv12, 피카츄)의 번개 공격\n",
      "효과는 미미했다.\n",
      "배틀머신(lv13, 피카츄)에게 피해를 12 입혔다!\n",
      "-  -  -  -  -  -  -  -  -  -  -  -  -  -\n",
      "전투기계(lv12, 피카츄)의 체력 : 5\n",
      "배틀머신(lv13, 피카츄)의 체력 : 57\n",
      "-----------------------------------------\n",
      "배틀머신(lv13, 피카츄)의 10만 볼트 공격\n",
      "효과는 미미했다.\n",
      "전투기계(lv12, 피카츄)에게 피해를 11 입혔다!\n",
      "-  -  -  -  -  -  -  -  -  -  -  -  -  -\n",
      "전투기계(lv12, 피카츄)의 체력 : -6\n",
      "배틀머신(lv13, 피카츄)의 체력 : 57\n",
      "-----------------------------------------\n",
      "\n",
      "배틀머신(lv13, 피카츄) win\n",
      "전투기계(lv12, 피카츄) lose\n",
      "\n",
      "-----------------------------------------\n"
     ]
    }
   ],
   "source": [
    "creater = PokemonCreater()\n",
    "p1 = creater.create_random_pokemon('전투기계')\n",
    "p2 = creater.create_random_pokemon('배틀머신')\n",
    "\n",
    "print('+*+*+*+*+*+*+*+*+*+*+*+*+*+*+*+*+*+\\n')\n",
    "print(f'{p1.get_info()} vs {p2.get_info()}')\n",
    "print('\\n+*+*+*+*+*+*+*+*+*+*+*+*+*+*+*+*+*+')\n",
    "\n",
    "while p1.check_status() and p2.check_status():\n",
    "    battle(p1, p2)\n",
    "print()\n",
    "if not p1.check_status():    \n",
    "    print(f'{p2.get_info()} win')\n",
    "    print(f'{p1.get_info()} lose')\n",
    "else:\n",
    "    print(f'{p1.get_info()} win')\n",
    "    print(f'{p2.get_info()} lose')\n",
    "print('\\n-----------------------------------------')"
   ]
  }
 ],
 "metadata": {
  "kernelspec": {
   "display_name": "Python 3",
   "language": "python",
   "name": "python3"
  },
  "language_info": {
   "codemirror_mode": {
    "name": "ipython",
    "version": 3
   },
   "file_extension": ".py",
   "mimetype": "text/x-python",
   "name": "python",
   "nbconvert_exporter": "python",
   "pygments_lexer": "ipython3",
   "version": "3.6.7"
  },
  "latex_envs": {
   "LaTeX_envs_menu_present": true,
   "autoclose": false,
   "autocomplete": true,
   "bibliofile": "biblio.bib",
   "cite_by": "apalike",
   "current_citInitial": 1,
   "eqLabelWithNumbers": true,
   "eqNumInitial": 1,
   "hotkeys": {
    "equation": "Ctrl-E",
    "itemize": "Ctrl-I"
   },
   "labels_anchors": false,
   "latex_user_defs": false,
   "report_style_numbering": false,
   "user_envs_cfg": false
  },
  "toc": {
   "base_numbering": 1,
   "nav_menu": {},
   "number_sections": true,
   "sideBar": true,
   "skip_h1_title": false,
   "title_cell": "Table of Contents",
   "title_sidebar": "Contents",
   "toc_cell": false,
   "toc_position": {},
   "toc_section_display": true,
   "toc_window_display": false
  }
 },
 "nbformat": 4,
 "nbformat_minor": 2
}
