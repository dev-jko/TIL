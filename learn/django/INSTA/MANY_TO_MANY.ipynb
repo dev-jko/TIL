{
 "cells": [
  {
   "cell_type": "code",
   "execution_count": 7,
   "metadata": {
    "scrolled": false
   },
   "outputs": [
    {
     "name": "stdout",
     "output_type": "stream",
     "text": [
      "학생\n",
      "학생2\n",
      "학생3\n",
      "Gina Parsons\n",
      "Jonathan Benson\n",
      "Morgan Santos\n",
      "Jorge Jenkins\n",
      "<class 'mton.models.Student'>\n"
     ]
    },
    {
     "data": {
      "text/plain": [
       "7"
      ]
     },
     "execution_count": 7,
     "metadata": {},
     "output_type": "execute_result"
    }
   ],
   "source": [
    "Student.objects.all()\n",
    "\n",
    "# from faker import Faker\n",
    "# f = Faker()\n",
    "# for i in range(4):\n",
    "#     Student.objects.create(name=f.name())\n",
    "for s in Student.objects.all():\n",
    "    print(s.name)\n",
    "    \n",
    "print(Student)\n",
    "Student.objects.count()"
   ]
  },
  {
   "cell_type": "code",
   "execution_count": 8,
   "metadata": {},
   "outputs": [
    {
     "name": "stdout",
     "output_type": "stream",
     "text": [
      "Ambulance person\n",
      "Metallurgist\n",
      "Database administrator\n",
      "Mining engineer\n"
     ]
    },
    {
     "data": {
      "text/plain": [
       "4"
      ]
     },
     "execution_count": 8,
     "metadata": {},
     "output_type": "execute_result"
    }
   ],
   "source": [
    "Lecture.objects.all()\n",
    "# dir(f)\n",
    "# for i in range(4):\n",
    "#     Lecture.objects.create(title=f.job())\n",
    "for s in Lecture.objects.all():\n",
    "    print(s.title)\n",
    "Lecture.objects.count()"
   ]
  },
  {
   "cell_type": "code",
   "execution_count": 9,
   "metadata": {},
   "outputs": [
    {
     "name": "stdout",
     "output_type": "stream",
     "text": [
      "학생3 Ambulance person\n",
      "학생 Ambulance person\n",
      "학생2 Metallurgist\n",
      "학생3 Metallurgist\n"
     ]
    },
    {
     "data": {
      "text/plain": [
       "4"
      ]
     },
     "execution_count": 9,
     "metadata": {},
     "output_type": "execute_result"
    }
   ],
   "source": [
    "Enrolment.objects.all()\n",
    "# Enrolment.objects.create(student_id=3, lecture_id=4)\n",
    "for s in Enrolment.objects.all():\n",
    "    print(s.student.name, s.lecture.title)\n",
    "Enrolment.objects.count()"
   ]
  },
  {
   "cell_type": "code",
   "execution_count": 18,
   "metadata": {},
   "outputs": [
    {
     "data": {
      "text/plain": [
       "<QuerySet [<Enrolment: Enrolment object (7)>]>"
      ]
     },
     "execution_count": 18,
     "metadata": {},
     "output_type": "execute_result"
    }
   ],
   "source": [
    "s1 = Student.objects.get(name='학생')\n",
    "s1.enrolment_set.all()[0].lecture.title\n",
    "\n",
    "e1 = s1.enrolment_set.first()\n",
    "e1.student.enrolment_set.all()"
   ]
  },
  {
   "cell_type": "code",
   "execution_count": 22,
   "metadata": {},
   "outputs": [],
   "source": [
    "s2 = Student.objects.get(id=3)"
   ]
  },
  {
   "cell_type": "code",
   "execution_count": 23,
   "metadata": {
    "scrolled": true
   },
   "outputs": [
    {
     "name": "stdout",
     "output_type": "stream",
     "text": [
      "Ambulance person\n",
      "Metallurgist\n"
     ]
    }
   ],
   "source": [
    "for e in s2.enrolment_set.all():\n",
    "    print(e.lecture.title)"
   ]
  },
  {
   "cell_type": "code",
   "execution_count": 31,
   "metadata": {},
   "outputs": [
    {
     "data": {
      "text/plain": [
       "<QuerySet [<Hotel: Hotel object (1)>, <Hotel: Hotel object (2)>, <Hotel: Hotel object (3)>, <Hotel: Hotel object (4)>, <Hotel: Hotel object (5)>, <Hotel: Hotel object (6)>, <Hotel: Hotel object (7)>, <Hotel: Hotel object (8)>, <Hotel: Hotel object (9)>, <Hotel: Hotel object (10)>]>"
      ]
     },
     "execution_count": 31,
     "metadata": {},
     "output_type": "execute_result"
    }
   ],
   "source": [
    "Hotel.objects.all()"
   ]
  },
  {
   "cell_type": "code",
   "execution_count": 32,
   "metadata": {},
   "outputs": [
    {
     "data": {
      "text/plain": [
       "<QuerySet [<Client: Client object (6)>, <Client: Client object (4)>, <Client: Client object (5)>, <Client: Client object (2)>, <Client: Client object (9)>, <Client: Client object (3)>, <Client: Client object (1)>, <Client: Client object (10)>, <Client: Client object (8)>, <Client: Client object (7)>]>"
      ]
     },
     "execution_count": 32,
     "metadata": {},
     "output_type": "execute_result"
    }
   ],
   "source": [
    "Client.objects.all()"
   ]
  },
  {
   "cell_type": "code",
   "execution_count": 34,
   "metadata": {},
   "outputs": [
    {
     "data": {
      "text/plain": [
       "0"
      ]
     },
     "execution_count": 34,
     "metadata": {},
     "output_type": "execute_result"
    }
   ],
   "source": [
    "Client.objects.last().hotel_set.count()"
   ]
  },
  {
   "cell_type": "code",
   "execution_count": 1,
   "metadata": {},
   "outputs": [
    {
     "data": {
      "text/plain": [
       "'Elizabeth Smith'"
      ]
     },
     "execution_count": 1,
     "metadata": {},
     "output_type": "execute_result"
    }
   ],
   "source": [
    "# Hotel.dummy(1)\n",
    "nh = Hotel.objects.last()\n",
    "nh.clients.all()\n",
    "# nh.clients.add(\n",
    "#     Client.objects.last(),\n",
    "#     Client.objects.get(id=1),\n",
    "#     Client.objects.get(id=2),\n",
    "#     Client.objects.get(id=3),\n",
    "#     Client.objects.get(id=4),\n",
    "# )\n",
    "\n",
    "nh.clients.filter(name__contains='h')[0].name\n"
   ]
  },
  {
   "cell_type": "code",
   "execution_count": 51,
   "metadata": {},
   "outputs": [
    {
     "name": "stdout",
     "output_type": "stream",
     "text": [
      "<QuerySet [{'name': 'Martin-Madden'}]>\n",
      "Martin-Madden\n"
     ]
    }
   ],
   "source": [
    "print(Client.objects.last().hotel_set.all().values('name'))\n",
    "\n",
    "for h in Client.objects.last().hotel_set.all():\n",
    "    print(h.name)"
   ]
  },
  {
   "cell_type": "code",
   "execution_count": 5,
   "metadata": {},
   "outputs": [
    {
     "data": {
      "text/plain": [
       "<QuerySet [<Client: Client object (4)>, <Client: Client object (2)>, <Client: Client object (3)>, <Client: Client object (1)>, <Client: Client object (7)>]>"
      ]
     },
     "execution_count": 5,
     "metadata": {},
     "output_type": "execute_result"
    }
   ],
   "source": [
    "Client.objects.last().hotels.all()\n",
    "Hotel.objects.last().clients.all()"
   ]
  }
 ],
 "metadata": {
  "kernelspec": {
   "display_name": "Django Shell-Plus",
   "language": "python",
   "name": "django_extensions"
  },
  "language_info": {
   "codemirror_mode": {
    "name": "ipython",
    "version": 3
   },
   "file_extension": ".py",
   "mimetype": "text/x-python",
   "name": "python",
   "nbconvert_exporter": "python",
   "pygments_lexer": "ipython3",
   "version": "3.7.3"
  }
 },
 "nbformat": 4,
 "nbformat_minor": 2
}
